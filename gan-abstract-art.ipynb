{
 "cells": [
  {
   "cell_type": "code",
   "execution_count": 1,
   "metadata": {},
   "outputs": [
    {
     "name": "stdout",
     "output_type": "stream",
     "text": [
      "Imported successfully!\n"
     ]
    }
   ],
   "source": [
    "import matplotlib.pyplot as plt\n",
    "import pandas as pd\n",
    "import numpy as np\n",
    "import os\n",
    "\n",
    "from PIL import Image\n",
    "\n",
    "import tensorflow\n",
    "from tensorflow.keras.models import *\n",
    "from tensorflow.keras.layers import *\n",
    "\n",
    "print(\"Imported successfully!\")"
   ]
  },
  {
   "cell_type": "code",
   "execution_count": 2,
   "metadata": {},
   "outputs": [],
   "source": [
    "# define path\n",
    "path = '_data/abstract_art/Abstract_gallery/Abstract_gallery'\n",
    "\n",
    "# pixel dataset\n",
    "pixel = []\n",
    "\n",
    "# resize images and transform to pixel array\n",
    "for filename in os.listdir(path):\n",
    "    img_path = os.path.join(path,filename)\n",
    "    image = Image.open(img_path).resize((128, 128), Image.ANTIALIAS)\n",
    "    pixel.append(np.asarray(image))"
   ]
  },
  {
   "cell_type": "code",
   "execution_count": 4,
   "metadata": {},
   "outputs": [],
   "source": [
    "np.save('_data/abstract_art/abstract_art.npy', pixel)\n"
   ]
  }
 ],
 "metadata": {
  "interpreter": {
   "hash": "841b1d841351cf74e946f307381221a2bfba6f1d408580d3b54b4f617b3016ff"
  },
  "kernelspec": {
   "display_name": "Python 3.8.5 64-bit ('base': conda)",
   "name": "python3"
  },
  "language_info": {
   "codemirror_mode": {
    "name": "ipython",
    "version": 3
   },
   "file_extension": ".py",
   "mimetype": "text/x-python",
   "name": "python",
   "nbconvert_exporter": "python",
   "pygments_lexer": "ipython3",
   "version": "3.8.5"
  },
  "orig_nbformat": 4
 },
 "nbformat": 4,
 "nbformat_minor": 2
}
